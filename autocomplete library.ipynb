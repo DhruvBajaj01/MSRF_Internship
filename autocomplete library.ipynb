{
 "cells": [
  {
   "cell_type": "code",
   "execution_count": 1,
   "metadata": {},
   "outputs": [
    {
     "name": "stderr",
     "output_type": "stream",
     "text": [
      "[nltk_data] Downloading package punkt to C:\\Users\\Dhruv\n",
      "[nltk_data]     Bajaj\\AppData\\Roaming\\nltk_data...\n",
      "[nltk_data]   Package punkt is already up-to-date!\n"
     ]
    },
    {
     "data": {
      "text/plain": [
       "['Hello people.', \"Hope you're doing great.\"]"
      ]
     },
     "execution_count": 1,
     "metadata": {},
     "output_type": "execute_result"
    }
   ],
   "source": [
    "import nltk\n",
    "nltk.download('punkt')\n",
    "from nltk.tokenize import sent_tokenize\n",
    "  \n",
    "text = \"Hello people. Hope you're doing great.\"\n",
    "sent_tokenize(text)\n"
   ]
  },
  {
   "cell_type": "markdown",
   "metadata": {},
   "source": [
    "# Tokenize paragraph into sentences "
   ]
  },
  {
   "cell_type": "code",
   "execution_count": 2,
   "metadata": {},
   "outputs": [
    {
     "data": {
      "text/plain": [
       "['Hello people.', 'My name is Dhruv.', 'How are you?']"
      ]
     },
     "execution_count": 2,
     "metadata": {},
     "output_type": "execute_result"
    }
   ],
   "source": [
    "import nltk\n",
    "\n",
    "from nltk.tokenize import sent_tokenize\n",
    "  \n",
    "text = \"Hello people. My name is Dhruv. How are you?\"\n",
    "sent_tokenize(text)"
   ]
  },
  {
   "cell_type": "markdown",
   "metadata": {},
   "source": [
    "# Tokenize sentece in words and gramatical aspect of words"
   ]
  },
  {
   "cell_type": "code",
   "execution_count": 3,
   "metadata": {},
   "outputs": [
    {
     "name": "stdout",
     "output_type": "stream",
     "text": [
      "Autonomous cars shift insurance liability toward manufacturers\n",
      "Autonomous ADJ amod\n",
      "cars NOUN nsubj\n",
      "shift VERB ROOT\n",
      "insurance NOUN compound\n",
      "liability NOUN dobj\n",
      "toward ADP prep\n",
      "manufacturers NOUN pobj\n"
     ]
    }
   ],
   "source": [
    "import spacy\n",
    "from spacy.lang.en.examples import sentences \n",
    "\n",
    "nlp = spacy.load(\"en_core_web_sm\") # using preloaded data set\n",
    "doc = nlp(sentences[1])\n",
    "print(doc.text)\n",
    "for token in doc:\n",
    "    print(token.text, token.pos_, token.dep_)"
   ]
  },
  {
   "cell_type": "markdown",
   "metadata": {},
   "source": []
  },
  {
   "cell_type": "code",
   "execution_count": 4,
   "metadata": {},
   "outputs": [
    {
     "name": "stdout",
     "output_type": "stream",
     "text": [
      "   the stock market refers to the collection of markets and exchanges where regular activities of buying selling and issuance of shares of publiclyheld companies take place such financial activities are conducted through institutionalized formal exchanges or overthecounter otc marketplaces which operate under a defined set of regulations there can be multiple stock trading venues in a country or a region which allow transactions in stocks and other forms of securities\n",
      "the stock market refers to the collection of markets and exchanges where regular activities of buying selling and issuance of shares of publiclyheld companies take place such financial activities are conducted through institutionalized formal exchanges or overthecounter otc marketplaces which operate under a defined set of regulations there can be multiple stock trading venues in a country or a region which allow transactions in stocks and other forms of securities\n"
     ]
    }
   ],
   "source": [
    "import re\n",
    "\n",
    "string = \"   The stock market refers to the collection of markets and exchanges where regular activities of buying, selling, and issuance of shares of publicly-held companies take place. Such financial activities are conducted through institutionalized formal exchanges or over-the-counter (OTC) marketplaces which operate under a defined set of regulations. There can be multiple stock trading venues in a country or a region which allow transactions in stocks and other forms of securities..\"\n",
    "lower_string = string.lower()\n",
    "\n",
    "# removing numbers\n",
    "no_number_string = re.sub(r'\\d+','',lower_string)\n",
    " \n",
    "# removing all punctuations\n",
    "no_punc_string = re.sub(r'[^\\w\\s]','', no_number_string)\n",
    "print(no_punc_string)\n",
    "\n",
    "# removing white spaces\n",
    "no_wspace_string = no_punc_string.strip()\n",
    "print(no_wspace_string)"
   ]
  },
  {
   "cell_type": "markdown",
   "metadata": {},
   "source": [
    "# Removing stopword"
   ]
  },
  {
   "cell_type": "code",
   "execution_count": 5,
   "metadata": {},
   "outputs": [
    {
     "name": "stdout",
     "output_type": "stream",
     "text": [
      "{'ourselves', 'her', 'down', 'some', 'that', 'he', 'yourself', 'once', 'shan', 'herself', 'theirs', 'because', 'until', \"she's\", 'aren', 'she', 'after', 'its', 'while', 'this', 'with', 'don', \"weren't\", 'in', 'yours', 'an', 'mightn', 'is', 'will', 'other', 'where', 'any', \"mustn't\", 'yourselves', \"shan't\", 'myself', 'it', \"you've\", 'further', 'needn', 'who', 'same', 'been', 'didn', 'o', 'wouldn', \"wasn't\", 'my', 'all', 'does', 'doing', \"that'll\", 'out', 'i', 'll', 'those', 'itself', 'a', 'the', 'our', 'here', 'there', 'about', \"should've\", 'during', 'they', 'more', 'you', 'of', \"don't\", 'were', 'y', 'from', \"haven't\", 'these', 'hers', 'do', 'or', 'when', 'off', \"it's\", 'themselves', 'than', \"hadn't\", \"needn't\", 'too', 'm', \"couldn't\", \"you're\", 'very', \"shouldn't\", 'through', 'doesn', 's', 'can', 'not', 'did', 'then', 'now', 'over', 'as', \"hasn't\", 'how', 'their', 'has', 'his', 'most', 'but', 'no', 'which', \"you'd\", 've', 'to', 'why', 'again', 'having', 'himself', 'weren', 'd', 'whom', 'before', 'haven', 'what', 'few', 'if', 'under', 'are', 'both', \"wouldn't\", 'nor', 'be', 'ours', \"aren't\", 'own', 'your', 'me', 'against', 'won', 'couldn', 'between', 'just', 'am', \"isn't\", 't', \"won't\", 'hadn', 'above', 'isn', \"mightn't\", 'at', 'for', 'shouldn', 'by', \"didn't\", 'hasn', 'have', 'and', 'should', 'we', 'below', 'such', 'only', 'mustn', \"you'll\", 'wasn', 'ain', 'being', 'on', \"doesn't\", 'him', 'so', 'each', 'them', 'ma', 'had', 'into', 're', 'was', 'up'}\n",
      "['the', 'stock', 'market', 'refers', 'to', 'the', 'collection', 'of', 'markets', 'and', 'exchanges', 'where', 'regular', 'activities', 'of', 'buying', 'selling', 'and', 'issuance', 'of', 'shares', 'of', 'publiclyheld', 'companies', 'take', 'place', 'such', 'financial', 'activities', 'are', 'conducted', 'through', 'institutionalized', 'formal', 'exchanges', 'or', 'overthecounter', 'otc', 'marketplaces', 'which', 'operate', 'under', 'a', 'defined', 'set', 'of', 'regulations', 'there', 'can', 'be', 'multiple', 'stock', 'trading', 'venues', 'in', 'a', 'country', 'or', 'a', 'region', 'which', 'allow', 'transactions', 'in', 'stocks', 'and', 'other', 'forms', 'of', 'securities', 'the', 'stock', 'market', 'refers', 'to', 'the', 'collection', 'of', 'markets', 'and', 'exchanges', 'where', 'regular', 'activities', 'of', 'buying', 'selling', 'and', 'issuance', 'of', 'shares', 'of', 'publiclyheld', 'companies', 'take', 'place', 'such', 'financial', 'activities', 'are', 'conducted', 'through', 'institutionalized', 'formal', 'exchanges', 'or', 'overthecounter', 'otc', 'marketplaces', 'which', 'operate', 'under', 'a', 'defined', 'set', 'of', 'regulations', 'there', 'can', 'be', 'multiple', 'stock', 'trading', 'venues', 'in', 'a', 'country', 'or', 'a', 'region', 'which', 'allow', 'transactions', 'in', 'stocks', 'and', 'other', 'forms', 'of', 'securities']\n",
      "stock market refers collection markets exchanges regular activities buying selling issuance shares publiclyheld companies take place financial activities conducted institutionalized formal exchanges overthecounter otc marketplaces operate defined set regulations multiple stock trading venues country region allow transactions stocks forms securities stock market refers collection markets exchanges regular activities buying selling issuance shares publiclyheld companies take place financial activities conducted institutionalized formal exchanges overthecounter otc marketplaces operate defined set regulations multiple stock trading venues country region allow transactions stocks forms securities\n"
     ]
    },
    {
     "name": "stderr",
     "output_type": "stream",
     "text": [
      "[nltk_data] Downloading package stopwords to C:\\Users\\Dhruv\n",
      "[nltk_data]     Bajaj\\AppData\\Roaming\\nltk_data...\n",
      "[nltk_data]   Package stopwords is already up-to-date!\n"
     ]
    }
   ],
   "source": [
    "# download stpwords\n",
    "import nltk\n",
    "nltk.download('stopwords')\n",
    " \n",
    "# import nltk for stopwords\n",
    "from nltk.corpus import stopwords\n",
    "stop_words = set(stopwords.words('english'))\n",
    "print(stop_words)\n",
    " \n",
    "# assign string\n",
    "no_wspace_string=\"\"\" the stock market refers to the collection of markets and exchanges where regular activities of buying selling and issuance of shares of publiclyheld companies take place such financial activities are conducted through institutionalized formal exchanges or overthecounter otc marketplaces which operate under a defined set of regulations there can be multiple stock trading venues in a country or a region which allow transactions in stocks and other forms of securities\n",
    "the stock market refers to the collection of markets and exchanges where regular activities of buying selling and issuance of shares of publiclyheld companies take place such financial activities are conducted through institutionalized formal exchanges or overthecounter otc marketplaces which operate under a defined set of regulations there can be multiple stock trading venues in a country or a region which allow transactions in stocks and other forms of securities\"\"\"\n",
    " \n",
    "# convert string to list of words\n",
    "lst_string = [no_wspace_string][0].split()\n",
    "print(lst_string)\n",
    " \n",
    "# remove stopwords\n",
    "no_stpwords_string=\"\"\n",
    "for i in lst_string:\n",
    "    if not i in stop_words:\n",
    "        no_stpwords_string += i+' '\n",
    "         \n",
    "# removing last space\n",
    "no_stpwords_string = no_stpwords_string[:-1]\n",
    "print(no_stpwords_string)"
   ]
  },
  {
   "cell_type": "markdown",
   "metadata": {},
   "source": [
    "# Installing required libraries"
   ]
  },
  {
   "cell_type": "code",
   "execution_count": 6,
   "metadata": {},
   "outputs": [
    {
     "name": "stdout",
     "output_type": "stream",
     "text": [
      "Requirement already satisfied: fast-autocomplete in c:\\users\\dhruv bajaj\\anaconda3\\lib\\site-packages (0.7.2)\n",
      "Requirement already satisfied: autocomplete in c:\\users\\dhruv bajaj\\anaconda3\\lib\\site-packages (0.0.104)\n",
      "Requirement already satisfied: bottle in c:\\users\\dhruv bajaj\\anaconda3\\lib\\site-packages (from autocomplete) (0.12.19)\n"
     ]
    }
   ],
   "source": [
    "!pip install fast-autocomplete\n",
    "!pip install autocomplete"
   ]
  },
  {
   "cell_type": "code",
   "execution_count": 7,
   "metadata": {},
   "outputs": [
    {
     "data": {
      "text/plain": [
       "[['book'], ['burrito']]"
      ]
     },
     "execution_count": 7,
     "metadata": {},
     "output_type": "execute_result"
    }
   ],
   "source": [
    "from fast_autocomplete import AutoComplete\n",
    "words = {'book': {}, 'burrito': {}, 'pizza': {}, 'pasta':{}}\n",
    "autocomplete = AutoComplete(words=words)\n",
    "autocomplete.search(word='b', max_cost=3, size=3)"
   ]
  },
  {
   "cell_type": "code",
   "execution_count": 8,
   "metadata": {},
   "outputs": [
    {
     "name": "stdout",
     "output_type": "stream",
     "text": [
      "aishani\n",
      "dance\n",
      "noida\n",
      "dhruv\n",
      "chess\n",
      "kanpur\n",
      "suhana\n",
      "reading\n",
      "shimla\n",
      "shubham\n",
      "cricket\n",
      "pune\n",
      "gopesh\n",
      "football\n",
      "kanpur\n"
     ]
    }
   ],
   "source": [
    "import pandas as pd\n",
    "friend_name=[]\n",
    "friend_hobbies=[]\n",
    "friend_location=[]\n",
    "for i in range (10):\n",
    "    name=input()\n",
    "    hobbies= input()\n",
    "    location= input()\n",
    "    friend_name.append(name)\n",
    "    friend_hobbies.append(hobbies)\n",
    "    friend_location.append(location)\n",
    "data={\n",
    "    'friend':friend_name,\n",
    "    'hobby':friend_hobbies,\n",
    "    'place':friend_location}\n"
   ]
  },
  {
   "cell_type": "code",
   "execution_count": 9,
   "metadata": {},
   "outputs": [],
   "source": [
    "df = pd.DataFrame(data)"
   ]
  },
  {
   "cell_type": "code",
   "execution_count": 10,
   "metadata": {},
   "outputs": [
    {
     "data": {
      "text/html": [
       "<div>\n",
       "<style scoped>\n",
       "    .dataframe tbody tr th:only-of-type {\n",
       "        vertical-align: middle;\n",
       "    }\n",
       "\n",
       "    .dataframe tbody tr th {\n",
       "        vertical-align: top;\n",
       "    }\n",
       "\n",
       "    .dataframe thead th {\n",
       "        text-align: right;\n",
       "    }\n",
       "</style>\n",
       "<table border=\"1\" class=\"dataframe\">\n",
       "  <thead>\n",
       "    <tr style=\"text-align: right;\">\n",
       "      <th></th>\n",
       "      <th>friend</th>\n",
       "      <th>hobby</th>\n",
       "      <th>place</th>\n",
       "    </tr>\n",
       "  </thead>\n",
       "  <tbody>\n",
       "    <tr>\n",
       "      <th>0</th>\n",
       "      <td>aishani</td>\n",
       "      <td>dance</td>\n",
       "      <td>noida</td>\n",
       "    </tr>\n",
       "    <tr>\n",
       "      <th>1</th>\n",
       "      <td>dhruv</td>\n",
       "      <td>chess</td>\n",
       "      <td>kanpur</td>\n",
       "    </tr>\n",
       "    <tr>\n",
       "      <th>2</th>\n",
       "      <td>suhana</td>\n",
       "      <td>reading</td>\n",
       "      <td>shimla</td>\n",
       "    </tr>\n",
       "    <tr>\n",
       "      <th>3</th>\n",
       "      <td>shubham</td>\n",
       "      <td>cricket</td>\n",
       "      <td>pune</td>\n",
       "    </tr>\n",
       "    <tr>\n",
       "      <th>4</th>\n",
       "      <td>gopesh</td>\n",
       "      <td>football</td>\n",
       "      <td>kanpur</td>\n",
       "    </tr>\n",
       "  </tbody>\n",
       "</table>\n",
       "</div>"
      ],
      "text/plain": [
       "    friend     hobby   place\n",
       "0  aishani     dance   noida\n",
       "1    dhruv     chess  kanpur\n",
       "2   suhana   reading  shimla\n",
       "3  shubham   cricket    pune\n",
       "4   gopesh  football  kanpur"
      ]
     },
     "execution_count": 10,
     "metadata": {},
     "output_type": "execute_result"
    }
   ],
   "source": [
    "df"
   ]
  },
  {
   "cell_type": "code",
   "execution_count": 11,
   "metadata": {},
   "outputs": [],
   "source": [
    "df.to_csv('friends.csv', mode='a', header=False)"
   ]
  },
  {
   "cell_type": "code",
   "execution_count": 12,
   "metadata": {},
   "outputs": [],
   "source": [
    "import csv\n",
    "from fast_autocomplete.misc import read_csv_gen\n",
    "\n",
    "\n",
    "def get_words(path):\n",
    "\n",
    "    csv_gen = read_csv_gen(path, csv_func=csv.DictReader)\n",
    "\n",
    "    words = {}\n",
    "\n",
    "    for line in csv_gen:\n",
    "        friend = line['friend']\n",
    "        hobby = line['hobby']\n",
    "        place = line['place']\n",
    "                      \n",
    "        if friend != place:\n",
    "            local_words = [place, hobby,'{} {} {}'.format(friend, hobby, place)]\n",
    "            while local_words:\n",
    "                word = local_words.pop()\n",
    "                if word not in words:\n",
    "                    words[word] = {}\n",
    "        if friend != hobby:\n",
    "            local_words = [hobby,place, '{} {} {}'.format(friend, hobby ,place)]\n",
    "            while local_words:\n",
    "                word = local_words.pop()\n",
    "                if word not in words:\n",
    "                    words[word] = {}\n",
    "        if friend not in words:\n",
    "            words[friend] = {}\n",
    "    return words"
   ]
  },
  {
   "cell_type": "code",
   "execution_count": 13,
   "metadata": {},
   "outputs": [],
   "source": [
    "words = get_words(r'C:\\Users\\Dhruv Bajaj\\friends.csv')# add the path file of csv created"
   ]
  },
  {
   "cell_type": "code",
   "execution_count": 14,
   "metadata": {},
   "outputs": [
    {
     "data": {
      "text/plain": [
       "{'aishani dance noida': {},\n",
       " 'dance': {},\n",
       " 'noida': {},\n",
       " 'aishani': {},\n",
       " 'dhruv chess kanpur': {},\n",
       " 'chess': {},\n",
       " 'kanpur': {},\n",
       " 'dhruv': {},\n",
       " 'suhana reading shimla': {},\n",
       " 'reading': {},\n",
       " 'shimla': {},\n",
       " 'suhana': {},\n",
       " 'shubham cricket pune': {},\n",
       " 'cricket': {},\n",
       " 'pune': {},\n",
       " 'shubham': {},\n",
       " 'gopesh football kanpur': {},\n",
       " 'football': {},\n",
       " 'gopesh': {},\n",
       " 'anirudh music delhi': {},\n",
       " 'music': {},\n",
       " 'delhi': {},\n",
       " 'anirudh': {},\n",
       " 'swaraj video game kanpur': {},\n",
       " 'video game': {},\n",
       " 'swaraj': {},\n",
       " 'piyush coding chennai': {},\n",
       " 'coding': {},\n",
       " 'chennai': {},\n",
       " 'piyush': {},\n",
       " 'pranav swimming  shimla': {},\n",
       " 'swimming ': {},\n",
       " 'pranav': {},\n",
       " 'hitesh table tennis  kanpur': {},\n",
       " 'table tennis ': {},\n",
       " 'hitesh': {}}"
      ]
     },
     "execution_count": 14,
     "metadata": {},
     "output_type": "execute_result"
    }
   ],
   "source": [
    "words\n"
   ]
  },
  {
   "cell_type": "code",
   "execution_count": 15,
   "metadata": {},
   "outputs": [],
   "source": [
    "synonyms = {\n",
    "    \"aishani\": [\"aishu\",\"aishi\",\"ishi\",\"ginni\",\"giny\"],\n",
    "    \"dhruv\": [\"dhru\", \"duv\",\"dhruvi\",],\n",
    "    \"suhana\": [\"su\", \"suzi\",\"suz\"],\n",
    "    \"shubham\": [\"shubh\"],\n",
    "    \n",
    "    \"gopesh\": [\"gopu\"],\n",
    "    \"swaraj\": [\"raj\"],\n",
    "\n",
    "    \"anirudh\": [\"ani\"]\n",
    "\n",
    "}"
   ]
  },
  {
   "cell_type": "code",
   "execution_count": 16,
   "metadata": {},
   "outputs": [],
   "source": [
    "from fast_autocomplete import AutoComplete\n",
    "\n",
    "autocomplete = AutoComplete(words=words, synonyms=synonyms)"
   ]
  },
  {
   "cell_type": "code",
   "execution_count": 17,
   "metadata": {},
   "outputs": [
    {
     "data": {
      "text/plain": [
       "[['aishani'], ['aishani dance noida']]"
      ]
     },
     "execution_count": 17,
     "metadata": {},
     "output_type": "execute_result"
    }
   ],
   "source": [
    "autocomplete.search(word='aishani', max_cost=5, size=5)"
   ]
  },
  {
   "cell_type": "code",
   "execution_count": 18,
   "metadata": {},
   "outputs": [
    {
     "data": {
      "text/plain": [
       "[['aishani'], ['aishani dance noida']]"
      ]
     },
     "execution_count": 18,
     "metadata": {},
     "output_type": "execute_result"
    }
   ],
   "source": [
    "autocomplete.search(word='ginni', max_cost=5, size=5)"
   ]
  },
  {
   "cell_type": "code",
   "execution_count": 19,
   "metadata": {},
   "outputs": [
    {
     "data": {
      "text/plain": [
       "[['dhruv'], ['dance'], ['delhi']]"
      ]
     },
     "execution_count": 19,
     "metadata": {},
     "output_type": "execute_result"
    }
   ],
   "source": [
    "autocomplete.search(word=' d ', max_cost=3, size=3)"
   ]
  },
  {
   "cell_type": "code",
   "execution_count": 20,
   "metadata": {},
   "outputs": [
    {
     "data": {
      "text/plain": [
       "[['aishani'], ['gopesh'], ['aishani dance noida'], ['gopesh football kanpur']]"
      ]
     },
     "execution_count": 20,
     "metadata": {},
     "output_type": "execute_result"
    }
   ],
   "source": [
    "autocomplete.search(word='g')"
   ]
  },
  {
   "cell_type": "code",
   "execution_count": 21,
   "metadata": {},
   "outputs": [
    {
     "data": {
      "text/plain": [
       "[['dhruv'], ['dance'], ['delhi'], ['dhruv chess kanpur']]"
      ]
     },
     "execution_count": 21,
     "metadata": {},
     "output_type": "execute_result"
    }
   ],
   "source": [
    "autocomplete.search(word='d')"
   ]
  },
  {
   "cell_type": "code",
   "execution_count": 22,
   "metadata": {},
   "outputs": [
    {
     "data": {
      "text/plain": [
       "[['kanpur']]"
      ]
     },
     "execution_count": 22,
     "metadata": {},
     "output_type": "execute_result"
    }
   ],
   "source": [
    "autocomplete.search(word='k')"
   ]
  },
  {
   "cell_type": "code",
   "execution_count": null,
   "metadata": {},
   "outputs": [],
   "source": []
  }
 ],
 "metadata": {
  "kernelspec": {
   "display_name": "Python 3",
   "language": "python",
   "name": "python3"
  },
  "language_info": {
   "codemirror_mode": {
    "name": "ipython",
    "version": 3
   },
   "file_extension": ".py",
   "mimetype": "text/x-python",
   "name": "python",
   "nbconvert_exporter": "python",
   "pygments_lexer": "ipython3",
   "version": "3.8.5"
  }
 },
 "nbformat": 4,
 "nbformat_minor": 4
}
